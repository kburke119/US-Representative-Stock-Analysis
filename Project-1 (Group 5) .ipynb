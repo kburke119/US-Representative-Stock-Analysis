{
 "cells": [
  {
   "cell_type": "code",
   "execution_count": null,
   "id": "0735d2c0",
   "metadata": {},
   "outputs": [],
   "source": [
    "# Dependencies\n",
    "\n",
    "import pandas as pd\n",
    "import matplotlib.pyplot as plt\n",
    "from datetime import datetime\n",
    "import random\n",
    "import hvplot.pandas\n",
    "import pandas as pd\n",
    "import yfinance as yf\n",
    "import statsmodels.api as sm"
   ]
  },
  {
   "cell_type": "code",
   "execution_count": null,
   "id": "e0faabe4",
   "metadata": {},
   "outputs": [],
   "source": [
    "# Reading Congress csv\n",
    "\n",
    "transactions_df = pd.read_csv(\"Congress Transactions 2021-2022.csv\")"
   ]
  },
  {
   "cell_type": "code",
   "execution_count": null,
   "id": "6fe9f1a9",
   "metadata": {},
   "outputs": [],
   "source": [
    "# Create a list of congress people on the csv\n",
    "representatives_list = transactions_df.representative.values.tolist()\n",
    "\n",
    "# Remove duplicates from the list\n",
    "reps_no_dups = [*set(representatives_list)]\n",
    "\n",
    "# Choose number of random reps from the list - here we are choosing 6  \n",
    "random_reps = random.sample(reps_no_dups, 6)"
   ]
  },
  {
   "cell_type": "code",
   "execution_count": null,
   "id": "0ffd498d",
   "metadata": {},
   "outputs": [],
   "source": [
    "rand_reps_transactions = transactions_df[transactions_df['representative'].isin(random_reps)]"
   ]
  },
  {
   "cell_type": "code",
   "execution_count": null,
   "id": "fb98de57",
   "metadata": {},
   "outputs": [],
   "source": [
    "# Set type of transaction to purchase only\n",
    "\n",
    "rand_reps_transactions = transactions_df[transactions_df['representative'].isin(random_reps)]\n",
    "rand_reps_purchases = rand_reps_transactions[rand_reps_transactions[\"type\"]==\"purchase\"]\n",
    "rand_reps_purchases.head()"
   ]
  },
  {
   "cell_type": "code",
   "execution_count": null,
   "id": "ea18339d",
   "metadata": {},
   "outputs": [],
   "source": [
    "# Random Representative and Party\n",
    "\n",
    "rand_rep_party = rand_reps_transactions[[\"representative\",\"party\"]]\n",
    "rand_rep_party = rand_rep_party.drop_duplicates().reset_index()\n",
    "rand_rep_party_index = rand_rep_party.set_index([\"representative\"])[\"party\"]\n",
    "pd.DataFrame(rand_rep_party_index)"
   ]
  },
  {
   "cell_type": "code",
   "execution_count": null,
   "id": "0f7c621e",
   "metadata": {},
   "outputs": [],
   "source": [
    "# Random Representative % of Party\n",
    "\n",
    "party_counts = rand_rep_party_index.value_counts()\n",
    "\n",
    "party_counts.plot.pie(autopct='%.1f%%')\n",
    "plt.title('Party Distribution of Representatives')\n",
    "plt.show()"
   ]
  },
  {
   "cell_type": "code",
   "execution_count": null,
   "id": "46d20810",
   "metadata": {},
   "outputs": [],
   "source": [
    "# Bar Chart for Number of Stock Purchases per Representative\n",
    "\n",
    "number_purchases= rand_reps_purchases.groupby([\"representative\"]).count()[\"type\"]\n",
    "number_purchases.plot(kind=\"bar\")\n",
    "plt.xlabel(\"Representative\")\n",
    "plt.ylabel(\"Number of Purchases\")\n",
    "plt.title(\"Number of Stock Purchases by Representative\")\n",
    "plt.show()"
   ]
  },
  {
   "cell_type": "code",
   "execution_count": null,
   "id": "d214b2de",
   "metadata": {},
   "outputs": [],
   "source": [
    "# Sectors purchased by random representatives\n",
    "\n",
    "top_sectors= rand_reps_purchases.groupby([\"sector\"]).count()[\"representative\"]\n",
    "top_sectors.plot(kind=\"bar\")\n",
    "plt.xlabel(\"Sector\")\n",
    "plt.ylabel(\"Total\")\n",
    "plt.title(\"Sectors Purchased by Representative\")\n",
    "plt.show()"
   ]
  },
  {
   "cell_type": "code",
   "execution_count": null,
   "id": "c6df33b2",
   "metadata": {},
   "outputs": [],
   "source": [
    "# Representative and Industry\n",
    "\n",
    "top_sectors= rand_reps_purchases.groupby([\"industry\"]).count()[\"representative\"]\n",
    "top_sectors.plot(kind=\"bar\")\n",
    "plt.xlabel(\"Industry\")\n",
    "plt.ylabel(\"Total\")\n",
    "plt.title(\"Industries Purchased by Representative\")\n",
    "plt.show()"
   ]
  },
  {
   "cell_type": "code",
   "execution_count": null,
   "id": "9609ba70",
   "metadata": {},
   "outputs": [],
   "source": [
    "# Top seven tickers purchased by all representatives\n",
    "\n",
    "tickers_purchased = rand_reps_purchases.groupby(\"ticker\").size().reset_index(name='counts')\n",
    "tickers_purchased = tickers_purchased.sort_values(\"counts\", ascending=False).head(7)\n",
    "tickers_purchased.plot(kind='bar', x='ticker', y='counts', color='skyblue')\n",
    "plt.xlabel('Ticker')\n",
    "plt.ylabel('Counts')\n",
    "plt.title('Number of Purchases by Ticker')\n",
    "plt.xticks(rotation=90)\n",
    "plt.show()"
   ]
  },
  {
   "cell_type": "code",
   "execution_count": null,
   "id": "b47ce7d2",
   "metadata": {
    "scrolled": true
   },
   "outputs": [],
   "source": [
    "# Representative state to be mapped in hvplot\n",
    "\n",
    "rep_state = rand_reps_transactions[[\"representative\",\"state\"]]\n",
    "rep_state = rep_state.drop_duplicates().reset_index()\n",
    "rep_state_index = rep_state.set_index([\"representative\"])[\"state\"]\n",
    "pd.DataFrame(rep_state)"
   ]
  },
  {
   "cell_type": "code",
   "execution_count": null,
   "id": "94e541b2",
   "metadata": {
    "scrolled": true
   },
   "outputs": [],
   "source": [
    "# Adding lat and long to map in hvplot\n",
    "\n",
    "from geopy.geocoders import Nominatim\n",
    "geolocator = Nominatim(user_agent=\"geoapiExercises\")\n",
    "\n",
    "rep_state['latitude'] = None\n",
    "rep_state['longitude'] = None\n",
    "\n",
    "for i, row in rep_state.iterrows():\n",
    "    location = geolocator.geocode(row[\"state\"] + ', United States')\n",
    "    rep_state.at[i, 'latitude'] = location.latitude\n",
    "    rep_state.at[i, 'longitude'] = location.longitude\n",
    "\n",
    "rep_state"
   ]
  },
  {
   "cell_type": "code",
   "execution_count": null,
   "id": "0c8fc1b7",
   "metadata": {},
   "outputs": [],
   "source": [
    "merged_df = pd.merge(rep_state, number_purchases, on='representative')\n",
    "merged_df"
   ]
  },
  {
   "cell_type": "code",
   "execution_count": null,
   "id": "ebdd13f7",
   "metadata": {},
   "outputs": [],
   "source": [
    "# Plot representative state and number of purchases on US map\n",
    "\n",
    "rep_map = merged_df.hvplot.points(\n",
    "    \"longitude\",\n",
    "    \"latitude\",\n",
    "    geo = True,\n",
    "    tiles = \"OSM\",\n",
    "    frame_width = 700,\n",
    "    frame_height = 500,\n",
    "    hover_cols = [\"representative\",\"type\"]\n",
    ")\n",
    "\n",
    "# Display the map plot\n",
    "rep_map"
   ]
  },
  {
   "cell_type": "code",
   "execution_count": null,
   "id": "fe800522",
   "metadata": {},
   "outputs": [],
   "source": [
    "# Get tickers from all transactions for each of the random congress people chosen above\n",
    "rand_reps_transactions = transactions_df[transactions_df['representative'].isin(random_reps)]\n",
    "# Set type of transaction to purchase only\n",
    "rand_reps_purchases = rand_reps_transactions[rand_reps_transactions[\"type\"]==\"purchase\"]\n",
    "rand_reps_purchases"
   ]
  },
  {
   "cell_type": "code",
   "execution_count": null,
   "id": "da0de8af",
   "metadata": {},
   "outputs": [],
   "source": [
    "#get the tickers for all transactions in the dataframe of transactions for randomly chosen congress people\n",
    "tickers = rand_reps_purchases.ticker.values.tolist()\n",
    "#remove duplicates from tickers\n",
    "tickers = [*set(tickers)]\n",
    "tickers"
   ]
  },
  {
   "cell_type": "code",
   "execution_count": null,
   "id": "a62e2c25",
   "metadata": {},
   "outputs": [],
   "source": [
    "#tickers to yfinance to get history to get history for specified date range\n",
    "stock_info = yf.download(tickers, start = \"2021-1-1\", end = \"2022-1-1\", ignore_tz=True)\n",
    "stock_info"
   ]
  },
  {
   "cell_type": "code",
   "execution_count": null,
   "id": "37003f50",
   "metadata": {},
   "outputs": [],
   "source": [
    "#Copy stock history to a static dataframe so we are not requesting data every time we reference \n",
    "stock_static = stock_info[\"Adj Close\"].copy()\n",
    "\n",
    "#Changing date from index to a column\n",
    "stock_static.reset_index(inplace=True)\n",
    "stock_static = stock_static.dropna(axis='columns', how='all')\n",
    "stock_static\n",
    "\n",
    "#Have to use this format to access columns\n",
    "#a = stock_static[\"Adj Close\"][\"ACN\"].values.tolist()\n",
    "#a"
   ]
  },
  {
   "cell_type": "code",
   "execution_count": null,
   "id": "9122a147",
   "metadata": {},
   "outputs": [],
   "source": [
    "# Create a new DataFrame to hold the stock returns for each stock purchased by the random representative\n",
    "returns_df = pd.DataFrame()"
   ]
  },
  {
   "cell_type": "code",
   "execution_count": null,
   "id": "7f68f474",
   "metadata": {},
   "outputs": [],
   "source": [
    "# Calculate the stock returns for each stock purchased by the random representative\n",
    "for ticker in tickers:\n",
    "    returns_df[ticker] = stock_static[ticker].pct_change()"
   ]
  },
  {
   "cell_type": "code",
   "execution_count": null,
   "id": "15ffe071",
   "metadata": {},
   "outputs": [],
   "source": [
    "# Drop any rows with missing values from the returns DataFrame\n",
    "returns_df.dropna(inplace=True)"
   ]
  },
  {
   "cell_type": "code",
   "execution_count": null,
   "id": "c1cdaeee",
   "metadata": {},
   "outputs": [],
   "source": [
    "# Fit an regression model to the stock returns\n",
    "model = sm.OLS(returns_df[tickers[1]], sm.add_constant(returns_df[tickers[0]])).fit()\n",
    "# Print the coefficient and intercept of the regression model\n",
    "print(random_rep)\n",
    "print(tickers[0])\n",
    "print(tickers[1])\n",
    "print(\"Coefficient: \", model.params[1])\n",
    "print(\"Intercept: \", model.params[0])\n",
    "# Get the p-value for the regression\n",
    "print(\"P-value: \", model.pvalues[1])"
   ]
  },
  {
   "cell_type": "code",
   "execution_count": null,
   "id": "7f8712d5",
   "metadata": {},
   "outputs": [],
   "source": [
    "x = returns_df[tickers[0]].values.reshape(-1, 1)\n",
    "y = returns_df[tickers[1]].values.reshape(-1, 1)\n",
    "plt.scatter(x, y, color='blue')\n",
    "plt.plot(x, reg.predict(x), color='red')\n",
    "plt.xlabel(\"Ticker (0) (x)\")\n",
    "plt.ylabel(\"Ticker (1) (y)\")\n",
    "plt.title(\"Linear Regression of Stock Purchases\")\n",
    "plt.show()"
   ]
  },
  {
   "cell_type": "code",
   "execution_count": null,
   "id": "3888fd31",
   "metadata": {},
   "outputs": [],
   "source": [
    "#Convert the date format to match the Congress dataframe date format\n",
    "#stock_static = pd.to_datetime(stock_static[\"Date\"], format = '%Y-%m-%d %H:%M:%S').strftime('%m/%d/%Y')\n",
    "stock_static[\"New Date\"]= stock_static[\"Date\"].dt.strftime('%#m/%d/%Y')\n",
    "#dff = dff[\"Old Time\"].dt.strftime(\"%d/%m/%Y %H:%M\")\n",
    "stock_static"
   ]
  },
  {
   "cell_type": "code",
   "execution_count": null,
   "id": "07b200c1",
   "metadata": {},
   "outputs": [],
   "source": [
    "type(stock_static[\"New Date\"][0])"
   ]
  },
  {
   "cell_type": "code",
   "execution_count": null,
   "id": "5733bff9",
   "metadata": {},
   "outputs": [],
   "source": [
    "acn_purchases = rand_reps_purchases.loc[rand_reps_purchases['ticker'] == \"ABT\"]\n",
    "acn_purchases"
   ]
  },
  {
   "cell_type": "code",
   "execution_count": null,
   "id": "6fd59f70",
   "metadata": {},
   "outputs": [],
   "source": [
    "# Getting the price data for a specific stock and date\n",
    "# Purchase_price = stock_static[stock_static[\"New Date\"] ==\"1/04/2021\"][\"Adj Close\"][\"NTAP\"]\n",
    "# Purchase_price\n",
    "\n",
    "ticker = stock_static[\"ABT\"]\n",
    "date = stock_static[\"New Date\"]\n",
    "\n",
    "plt.plot(date, ticker, color='blue', marker='.', linestyle='solid')\n",
    "plt.axvline(\"8/03/2021\", color = \"green\")\n",
    "plt.axvline(\"5/24/2021\", color =\"red\")\n",
    "\n",
    "\n",
    "#purchase_price = stock_static[stock_static[\"New Date\"] == \"01/04/2021\"][\"Adj Close\"][\"AMZN\"]\n",
    "\n",
    "\n",
    "#purchase_date = \"01/04/2021\"\n",
    "#purchase_price = stock_static[stock_static[\"New Date\"] == purchase_date][\"Adj Close\"][\"AMZN\"]\n",
    "\n",
    "#plt.plot(purchase_date,purchase_price, marker = \"o\",color=\"red\")\n",
    "#transaction = acn_purchases[\"transaction_date\"]\n",
    "\n",
    "\n",
    "#x = stock_static[\"Adj Close\"][\"ABNB\"] & date == transaction\n",
    "#print(x)\n",
    "#plt.plot(transaction)\n",
    "#months = ['Jan', 'Feb', 'Mar', 'Apr', 'May', 'Jun', 'Jul', 'Aug', 'Sep', 'Oct', 'Nov', 'Dec', 'Jan']\n",
    "#plt.xticks(np.linspace(0,365,13), months)\n",
    "\n",
    "\n",
    "\n",
    "#\"= df['date'].apply(pd.Timestamp)\n",
    "#df=df.set_index('date')\n",
    "#df.plot(marker='o')\n",
    "\n",
    "plt.show()"
   ]
  }
 ],
 "metadata": {
  "kernelspec": {
   "display_name": "Python 3 (ipykernel)",
   "language": "python",
   "name": "python3"
  },
  "language_info": {
   "codemirror_mode": {
    "name": "ipython",
    "version": 3
   },
   "file_extension": ".py",
   "mimetype": "text/x-python",
   "name": "python",
   "nbconvert_exporter": "python",
   "pygments_lexer": "ipython3",
   "version": "3.9.13"
  }
 },
 "nbformat": 4,
 "nbformat_minor": 5
}
