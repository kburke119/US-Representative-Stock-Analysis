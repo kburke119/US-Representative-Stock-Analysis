{
 "cells": [
  {
   "cell_type": "code",
   "execution_count": null,
   "id": "0735d2c0",
   "metadata": {},
   "outputs": [],
   "source": [
    "# Dependencies\n",
    "\n",
    "import pandas as pd\n",
    "import matplotlib.pyplot as plt\n",
    "from datetime import datetime\n",
    "import random\n",
    "import hvplot.pandas\n",
    "import pandas as pd\n",
    "import yfinance as yf\n",
    "import statsmodels.api as sm\n",
    "import ast\n",
    "import numpy as np"
   ]
  },
  {
   "cell_type": "code",
   "execution_count": null,
   "id": "e0faabe4",
   "metadata": {},
   "outputs": [],
   "source": [
    "# Reading Congress csv\n",
    "\n",
    "transactions_df = pd.read_csv(\"Congress Transactions 2021-2022.csv\")"
   ]
  },
  {
   "cell_type": "code",
   "execution_count": null,
   "id": "6fe9f1a9",
   "metadata": {},
   "outputs": [],
   "source": [
    "# Create a list of congress people on the csv\n",
    "representatives_list = transactions_df.representative.values.tolist()\n",
    "\n",
    "# Remove duplicates from the list\n",
    "reps_no_dups = [*set(representatives_list)]\n",
    "\n",
    "# Choose number of random reps from the list - here we are choosing 6  \n",
    "random_reps = random.sample(reps_no_dups, 6)"
   ]
  },
  {
   "cell_type": "code",
   "execution_count": null,
   "id": "0ffd498d",
   "metadata": {},
   "outputs": [],
   "source": [
    "rand_reps_transactions = transactions_df[transactions_df['representative'].isin(random_reps)]"
   ]
  },
  {
   "cell_type": "code",
   "execution_count": null,
   "id": "fb98de57",
   "metadata": {},
   "outputs": [],
   "source": [
    "# Set type of transaction to purchase only\n",
    "\n",
    "rand_reps_transactions = transactions_df[transactions_df['representative'].isin(random_reps)]\n",
    "rand_reps_purchases = rand_reps_transactions[rand_reps_transactions[\"type\"]==\"purchase\"]\n",
    "rand_reps_purchases.head()"
   ]
  },
  {
   "cell_type": "code",
   "execution_count": null,
   "id": "ea18339d",
   "metadata": {},
   "outputs": [],
   "source": [
    "# Random Representative and Party\n",
    "\n",
    "rand_rep_party = rand_reps_transactions[[\"representative\",\"party\"]]\n",
    "rand_rep_party = rand_rep_party.drop_duplicates().reset_index()\n",
    "rand_rep_party_index = rand_rep_party.set_index([\"representative\"])[\"party\"]\n",
    "pd.DataFrame(rand_rep_party_index)"
   ]
  },
  {
   "cell_type": "code",
   "execution_count": null,
   "id": "0f7c621e",
   "metadata": {},
   "outputs": [],
   "source": [
    "# Random Representative % of Party\n",
    "\n",
    "party_counts = rand_rep_party_index.value_counts()\n",
    "\n",
    "party_counts.plot.pie(autopct='%.1f%%')\n",
    "plt.title('Party Distribution of Representatives')\n",
    "plt.show()"
   ]
  },
  {
   "cell_type": "code",
   "execution_count": null,
   "id": "46d20810",
   "metadata": {},
   "outputs": [],
   "source": [
    "# Bar Chart for Number of Stock Purchases per Representative\n",
    "\n",
    "number_purchases= rand_reps_purchases.groupby([\"representative\"]).count()[\"type\"]\n",
    "number_purchases.plot(kind=\"bar\")\n",
    "plt.xlabel(\"Representative\")\n",
    "plt.ylabel(\"Number of Purchases\")\n",
    "plt.title(\"Number of Stock Purchases by Representative\")\n",
    "plt.show()"
   ]
  },
  {
   "cell_type": "code",
   "execution_count": null,
   "id": "d214b2de",
   "metadata": {},
   "outputs": [],
   "source": [
    "# Sectors purchased by random representatives\n",
    "\n",
    "top_sectors= rand_reps_purchases.groupby([\"sector\"]).count()[\"representative\"]\n",
    "top_sectors.plot(kind=\"bar\")\n",
    "plt.xlabel(\"Sector\")\n",
    "plt.ylabel(\"Total\")\n",
    "plt.title(\"Sectors Purchased by Representative\")\n",
    "plt.show()"
   ]
  },
  {
   "cell_type": "code",
   "execution_count": null,
   "id": "c6df33b2",
   "metadata": {},
   "outputs": [],
   "source": [
    "# Representative and Industry\n",
    "\n",
    "top_sectors= rand_reps_purchases.groupby([\"industry\"]).count()[\"representative\"]\n",
    "top_sectors.plot(kind=\"bar\")\n",
    "plt.xlabel(\"Industry\")\n",
    "plt.ylabel(\"Total\")\n",
    "plt.title(\"Industries Purchased by Representative\")\n",
    "plt.show()"
   ]
  },
  {
   "cell_type": "code",
   "execution_count": null,
   "id": "9609ba70",
   "metadata": {},
   "outputs": [],
   "source": [
    "# Top seven tickers purchased by all representatives\n",
    "\n",
    "tickers_purchased = rand_reps_purchases.groupby(\"ticker\").size().reset_index(name='counts')\n",
    "tickers_purchased = tickers_purchased.sort_values(\"counts\", ascending=False).head(7)\n",
    "tickers_purchased.plot(kind='bar', x='ticker', y='counts', color='skyblue')\n",
    "plt.xlabel('Ticker')\n",
    "plt.ylabel('Counts')\n",
    "plt.title('Number of Purchases by Ticker')\n",
    "plt.xticks(rotation=90)\n",
    "plt.show()"
   ]
  },
  {
   "cell_type": "code",
   "execution_count": null,
   "id": "b47ce7d2",
   "metadata": {
    "scrolled": true
   },
   "outputs": [],
   "source": [
    "# Representative state to be mapped in hvplot\n",
    "\n",
    "rep_state = rand_reps_transactions[[\"representative\",\"state\"]]\n",
    "rep_state = rep_state.drop_duplicates().reset_index()\n",
    "rep_state_index = rep_state.set_index([\"representative\"])[\"state\"]\n",
    "pd.DataFrame(rep_state)"
   ]
  },
  {
   "cell_type": "code",
   "execution_count": null,
   "id": "94e541b2",
   "metadata": {
    "scrolled": true
   },
   "outputs": [],
   "source": [
    "# Adding lat and long to map in hvplot\n",
    "\n",
    "from geopy.geocoders import Nominatim\n",
    "geolocator = Nominatim(user_agent=\"geoapiExercises\")\n",
    "\n",
    "rep_state['latitude'] = None\n",
    "rep_state['longitude'] = None\n",
    "\n",
    "for i, row in rep_state.iterrows():\n",
    "    location = geolocator.geocode(row[\"state\"] + ', United States')\n",
    "    rep_state.at[i, 'latitude'] = location.latitude\n",
    "    rep_state.at[i, 'longitude'] = location.longitude\n",
    "\n",
    "rep_state"
   ]
  },
  {
   "cell_type": "code",
   "execution_count": null,
   "id": "0c8fc1b7",
   "metadata": {},
   "outputs": [],
   "source": [
    "merged_df = pd.merge(rep_state, number_purchases, on='representative')\n",
    "merged_df"
   ]
  },
  {
   "cell_type": "code",
   "execution_count": null,
   "id": "ebdd13f7",
   "metadata": {},
   "outputs": [],
   "source": [
    "# Plot representative state and number of purchases on US map\n",
    "\n",
    "rep_map = merged_df.hvplot.points(\n",
    "    \"longitude\",\n",
    "    \"latitude\",\n",
    "    geo = True,\n",
    "    tiles = \"OSM\",\n",
    "    frame_width = 700,\n",
    "    frame_height = 500,\n",
    "    hover_cols = [\"representative\",\"type\"]\n",
    ")\n",
    "\n",
    "# Display the map plot\n",
    "rep_map"
   ]
  },
  {
   "cell_type": "code",
   "execution_count": null,
   "id": "0a9230db",
   "metadata": {},
   "outputs": [],
   "source": [
    "# Get tickers from all transactions for each of the random congress people chosen above\n",
    "rand_reps_transactions = transactions_df[transactions_df['representative'].isin(random_reps)]\n",
    "# Set type of transaction to purchase only\n",
    "rand_reps_purchases = rand_reps_transactions[rand_reps_transactions[\"type\"]==\"purchase\"]\n",
    "rand_reps_purchases"
   ]
  },
  {
   "cell_type": "code",
   "execution_count": null,
   "id": "cd76da8e",
   "metadata": {},
   "outputs": [],
   "source": [
    "#get the tickers for all transactions in the dataframe of transactions for randomly chosen congress people\n",
    "tickers = rand_reps_purchases.ticker.values.tolist()\n",
    "#remove duplicates from tickers\n",
    "tickers = [*set(tickers)]\n",
    "tickers"
   ]
  },
  {
   "cell_type": "code",
   "execution_count": null,
   "id": "f7742875",
   "metadata": {},
   "outputs": [],
   "source": [
    "#tickers to yfinance to get history to get history for specified date range\n",
    "stock_info = yf.download(tickers, start = \"2021-1-1\", end = \"2022-1-1\", ignore_tz=True)\n",
    "stock_info"
   ]
  },
  {
   "cell_type": "code",
   "execution_count": null,
   "id": "6ccdec21",
   "metadata": {},
   "outputs": [],
   "source": [
    "#Copy stock history to a static dataframe so we are not requesting data every time we reference \n",
    "stock_static = stock_info[\"Adj Close\"].copy()\n",
    "\n",
    "#Changing date from index to a column\n",
    "stock_static.reset_index(inplace=True)\n",
    "stock_static = stock_static.dropna(axis='columns', how='all')\n",
    "stock_static\n",
    "\n",
    "#Have to use this format to access columns\n",
    "#a = stock_static[\"Adj Close\"][\"ACN\"].values.tolist()\n",
    "#a"
   ]
  },
  {
   "cell_type": "code",
   "execution_count": null,
   "id": "48866203",
   "metadata": {},
   "outputs": [],
   "source": [
    "# Create a new DataFrame to hold the stock returns for each stock purchased by the random representative\n",
    "returns_df = pd.DataFrame()"
   ]
  },
  {
   "cell_type": "code",
   "execution_count": null,
   "id": "a14a077d",
   "metadata": {},
   "outputs": [],
   "source": [
    "# Calculate the stock returns for each stock purchased by the random representative\n",
    "for ticker in tickers:\n",
    "    returns_df[ticker] = stock_static[ticker].pct_change()"
   ]
  },
  {
   "cell_type": "code",
   "execution_count": null,
   "id": "1ad32133",
   "metadata": {},
   "outputs": [],
   "source": [
    "# Drop any rows with missing values from the returns DataFrame\n",
    "returns_df.dropna(inplace=True)"
   ]
  },
  {
   "cell_type": "code",
   "execution_count": null,
   "id": "8a973a0b",
   "metadata": {},
   "outputs": [],
   "source": [
    "# Fit an regression model to the stock returns\n",
    "model = sm.OLS(returns_df[tickers[1]], sm.add_constant(returns_df[tickers[0]])).fit()\n",
    "# Print the coefficient and intercept of the regression model\n",
    "print(random_rep)\n",
    "print(tickers[0])\n",
    "print(tickers[1])\n",
    "print(\"Coefficient: \", model.params[1])\n",
    "print(\"Intercept: \", model.params[0])\n",
    "# Get the p-value for the regression\n",
    "print(\"P-value: \", model.pvalues[1])"
   ]
  },
  {
   "cell_type": "code",
   "execution_count": null,
   "id": "98fb09df",
   "metadata": {},
   "outputs": [],
   "source": [
    "x = returns_df[tickers[0]].values.reshape(-1, 1)\n",
    "y = returns_df[tickers[1]].values.reshape(-1, 1)\n",
    "plt.scatter(x, y, color='blue')\n",
    "plt.plot(x, reg.predict(x), color='red')\n",
    "plt.xlabel(\"Ticker (0) (x)\")\n",
    "plt.ylabel(\"Ticker (1) (y)\")\n",
    "plt.title(\"Linear Regression of Stock Purchases\")\n",
    "plt.show()"
   ]
  },
  {
   "cell_type": "code",
   "execution_count": null,
   "id": "92e38bde",
   "metadata": {},
   "outputs": [],
   "source": [
    "#Convert the date format to match the Congress dataframe date format\n",
    "#stock_static = pd.to_datetime(stock_static[\"Date\"], format = '%Y-%m-%d %H:%M:%S').strftime('%m/%d/%Y')\n",
    "stock_static[\"New Date\"]= stock_static[\"Date\"].dt.strftime('%#m/%d/%Y')\n",
    "#dff = dff[\"Old Time\"].dt.strftime(\"%d/%m/%Y %H:%M\")\n",
    "stock_static"
   ]
  },
  {
   "cell_type": "code",
   "execution_count": null,
   "id": "a7226305",
   "metadata": {},
   "outputs": [],
   "source": [
    "type(stock_static[\"New Date\"][0])"
   ]
  },
  {
   "cell_type": "code",
   "execution_count": null,
   "id": "99f0003f",
   "metadata": {},
   "outputs": [],
   "source": [
    "acn_purchases = rand_reps_purchases.loc[rand_reps_purchases['ticker'] == \"ABT\"]\n",
    "acn_purchases"
   ]
  },
  {
   "cell_type": "code",
   "execution_count": null,
   "id": "499ac977",
   "metadata": {},
   "outputs": [],
   "source": [
    "# Getting the price data for a specific stock and date\n",
    "# Purchase_price = stock_static[stock_static[\"New Date\"] ==\"1/04/2021\"][\"Adj Close\"][\"NTAP\"]\n",
    "# Purchase_price\n",
    "\n",
    "ticker = stock_static[\"ABT\"]\n",
    "date = stock_static[\"New Date\"]\n",
    "\n",
    "plt.plot(date, ticker, color='blue', marker='.', linestyle='solid')\n",
    "plt.axvline(\"8/03/2021\", color = \"green\")\n",
    "plt.axvline(\"5/24/2021\", color =\"red\")\n",
    "\n",
    "\n",
    "#purchase_price = stock_static[stock_static[\"New Date\"] == \"01/04/2021\"][\"Adj Close\"][\"AMZN\"]\n",
    "\n",
    "\n",
    "#purchase_date = \"01/04/2021\"\n",
    "#purchase_price = stock_static[stock_static[\"New Date\"] == purchase_date][\"Adj Close\"][\"AMZN\"]\n",
    "\n",
    "#plt.plot(purchase_date,purchase_price, marker = \"o\",color=\"red\")\n",
    "#transaction = acn_purchases[\"transaction_date\"]\n",
    "\n",
    "\n",
    "#x = stock_static[\"Adj Close\"][\"ABNB\"] & date == transaction\n",
    "#print(x)\n",
    "#plt.plot(transaction)\n",
    "#months = ['Jan', 'Feb', 'Mar', 'Apr', 'May', 'Jun', 'Jul', 'Aug', 'Sep', 'Oct', 'Nov', 'Dec', 'Jan']\n",
    "#plt.xticks(np.linspace(0,365,13), months)\n",
    "\n",
    "\n",
    "\n",
    "#\"= df['date'].apply(pd.Timestamp)\n",
    "#df=df.set_index('date')\n",
    "#df.plot(marker='o')\n",
    "\n",
    "plt.show()"
   ]
  },
  {
   "cell_type": "code",
   "execution_count": null,
   "id": "56c0835a",
   "metadata": {},
   "outputs": [],
   "source": [
    "transactions_df['ticker'].value_counts().head(20)"
   ]
  },
  {
   "cell_type": "code",
   "execution_count": null,
   "id": "a56610b0",
   "metadata": {},
   "outputs": [],
   "source": [
    "# create a dictionary to store the data\n",
    "data = {}\n",
    "\n",
    "# get the unique representative names\n",
    "unique_reps = transactions_df['representative'].unique()\n",
    "\n",
    "# loop through each representative\n",
    "for rep in unique_reps:\n",
    "  # get the data for the current representative\n",
    "  rep_data = transactions_df[transactions_df['representative'] == rep]\n",
    "  # get the stock ticker they traded the most\n",
    "  most_traded_ticker = rep_data['ticker'].value_counts().index[0]\n",
    "  #get the total count of ticker trades\n",
    "  rep_ticker_counts = rep_data['ticker'].count()\n",
    "  # get the highest value for that ticker\n",
    "  highest_value = rep_data[rep_data['ticker'] == most_traded_ticker]['amount'].max()\n",
    "  # get party affiliation  \n",
    "  party = rep_data['party'].iloc[0] \n",
    "  #add trade type\n",
    "  trade_type = rep_data['type'].iloc[0]\n",
    "  # add the data to the dictionary\n",
    "  data[rep] = [party, most_traded_ticker, rep_ticker_counts, trade_type, highest_value]\n",
    "  \n",
    "\n",
    "#create a dataframe from the dictionary\n",
    "new_df = pd.DataFrame.from_dict(data, orient='index', columns=['Party', 'Ticker', 'Total Trades','Trade','Highest Value'])\n",
    "new_df.index.name = 'Rep Name'\n",
    "new_df = new_df.sort_values(by='Total Trades', ascending=False)\n",
    "\n",
    "new_df"
   ]
  },
  {
   "cell_type": "code",
   "execution_count": null,
   "id": "3b832aad",
   "metadata": {},
   "outputs": [],
   "source": [
    "# separate the data into two dataframes: one for Democrats and one for Republicans\n",
    "democrats_df = new_df[new_df['Party'] == 'Democrat']\n",
    "republicans_df = new_df[new_df['Party'] == 'Republican']\n",
    "\n",
    "# take a random sample of 50/50 representatives from each party \n",
    "democrats_sample = democrats_df[democrats_df['Total Trades'] >= 10].sample(n=3)\n",
    "republicans_sample = republicans_df[republicans_df['Total Trades'] >= 10].sample(n=3)\n",
    "\n",
    "# Finally, concatenate the two samples into one dataframe\n",
    "random_sample = pd.concat([democrats_sample, republicans_sample])\n",
    "\n",
    "random_sample"
   ]
  },
  {
   "cell_type": "code",
   "execution_count": null,
   "id": "a42751c2",
   "metadata": {},
   "outputs": [],
   "source": [
    "# Define the stock ticker you want to obtain the history data for\n",
    "ticker_name = 'MSFT'\n",
    "\n",
    "# Use the `yf.download` method to obtain the historical data\n",
    "data = yf.download(ticker_name, start='2021-01-01', end='2022-01-31')\n",
    "\n",
    "# Convert the data into a Pandas DataFrame\n",
    "yf_df = pd.DataFrame(data)\n",
    "\n",
    "# Reset the index to make the date information a column\n",
    "yf_df = yf_df.reset_index()\n",
    "\n",
    "# Set the date column as the index for the dataframe\n",
    "yf_df = yf_df.set_index('Date')\n",
    "\n",
    "# Filter the dataframe to only keep the \"Adj Close\" column\n",
    "yf_df = yf_df[['Adj Close']]\n",
    "\n",
    "# Calculate the daily percent change for each individual ticker\n",
    "percent_change = [np.nan]\n",
    "for i in range(1, len(yf_df)):\n",
    "    daily_change = ((yf_df.iloc[i]['Adj Close'] - yf_df.iloc[i - 1]['Adj Close']) / yf_df.iloc[i - 1]['Adj Close'] * 100)\n",
    "    percent_change.append(daily_change)\n",
    "\n",
    "original_row = pd.DataFrame(percent_change, columns=[\"percent_change\"])\n",
    "\n",
    "# Set the date information as the index for the original_row dataframe\n",
    "original_row = original_row.set_index(yf_df.index)\n",
    "\n",
    "# Aggregate the daily change into weekly\n",
    "weekly_change = original_row.resample('W').sum()\n",
    "\n",
    "# Create a DataFrame with all the transaction dates for a single ticker\n",
    "ticker = 'MSFT'\n",
    "ticker_dates_df = transactions_df.loc[transactions_df['ticker'] == ticker_name, ['transaction_date']]\n",
    "\n",
    "# Convert the transaction dates to datetime format\n",
    "ticker_dates_df['transaction_date'] = pd.to_datetime(ticker_dates_df['transaction_date'])\n",
    "\n",
    "# Get a list of unique dates\n",
    "ticker_dates = ticker_dates_df['transaction_date'].unique()\n",
    "\n",
    "# Plot the weekly change\n",
    "fig, ax = plt.subplots(figsize=(30,6))\n",
    "ax.plot_date(weekly_change.index, weekly_change['percent_change'], '-')\n",
    "ax.set_xlabel('Week')\n",
    "ax.set_ylabel('Change')\n",
    "ax.set_title(f\"Weekly % Change in {ticker_name} Price\")\n",
    "\n",
    "# Add a marker for each transaction date that falls within the date range of weekly_change\n",
    "for date in ticker_dates:\n",
    "    if date >= weekly_change.index.min() and date <= weekly_change.index.max():\n",
    "        ax.plot_date(date, 0, marker='D', markersize=8, color='red')\n",
    "\n",
    "plt.show()"
   ]
  },
  {
   "cell_type": "code",
   "execution_count": null,
   "id": "67b9c33d",
   "metadata": {},
   "outputs": [],
   "source": [
    "ticker_dates_df.value_counts().head(10)"
   ]
  },
  {
   "cell_type": "code",
   "execution_count": null,
   "id": "910dff11",
   "metadata": {},
   "outputs": [],
   "source": [
    "# Define the stock ticker you want to obtain the history data for\n",
    "ticker_name = 'NTAP'\n",
    "\n",
    "# Use the `yf.download` method to obtain the historical data\n",
    "data = yf.download(ticker_name, start='2021-01-01', end='2022-01-31')\n",
    "\n",
    "# Convert the data into a Pandas DataFrame\n",
    "yf_df = pd.DataFrame(data)\n",
    "\n",
    "# Reset the index to make the date information a column\n",
    "yf_df = yf_df.reset_index()\n",
    "\n",
    "# Set the date column as the index for the dataframe\n",
    "yf_df = yf_df.set_index('Date')\n",
    "\n",
    "# Filter the dataframe to only keep the \"Adj Close\" column\n",
    "yf_df = yf_df[['Adj Close']]\n",
    "\n",
    "# Calculate the daily percent change for each individual ticker\n",
    "percent_change = [np.nan]\n",
    "for i in range(1, len(yf_df)):\n",
    "    daily_change = ((yf_df.iloc[i]['Adj Close'] - yf_df.iloc[i - 1]['Adj Close']) / yf_df.iloc[i - 1]['Adj Close'] * 100)\n",
    "    percent_change.append(daily_change)\n",
    "\n",
    "original_row = pd.DataFrame(percent_change, columns=[\"percent_change\"])\n",
    "\n",
    "# Set the date information as the index for the original_row dataframe\n",
    "original_row = original_row.set_index(yf_df.index)"
   ]
  },
  {
   "cell_type": "code",
   "execution_count": null,
   "id": "343f26ff",
   "metadata": {},
   "outputs": [],
   "source": [
    "# Aggregate the daily change into weekly\n",
    "weekly_change = original_row.resample('W').sum()\n",
    "\n",
    "# Create a DataFrame with all the transaction dates for a single ticker\n",
    "ticker = 'NTAP'\n",
    "ticker_dates_df = transactions_df.loc[transactions_df['ticker'] == ticker_name, ['transaction_date']]\n",
    "\n",
    "# Convert the transaction dates to datetime format\n",
    "ticker_dates_df['transaction_date'] = pd.to_datetime(ticker_dates_df['transaction_date'])\n",
    "\n",
    "# Get a list of unique dates\n",
    "ticker_dates = ticker_dates_df['transaction_date'].unique()\n",
    "\n",
    "# Plot the weekly change\n",
    "fig, ax = plt.subplots(figsize=(30,6))\n",
    "ax.plot_date(weekly_change.index, weekly_change['percent_change'], '-')\n",
    "ax.set_xlabel('Week')\n",
    "ax.set_ylabel('Change')\n",
    "ax.set_title(f\"Weekly % Change in {ticker_name} Price\")\n",
    "\n",
    "# Add a marker for each transaction date that falls within the date range of weekly_change\n",
    "for date in ticker_dates:\n",
    "    if date >= weekly_change.index.min() and date <= weekly_change.index.max():\n",
    "        ax.plot_date(date, 0, marker='D', markersize=8, color='red')\n",
    "\n",
    "plt.show()"
   ]
  },
  {
   "cell_type": "code",
   "execution_count": null,
   "id": "c024adf3",
   "metadata": {},
   "outputs": [],
   "source": [
    "ticker_dates_df.value_counts().head(10)"
   ]
  },
  {
   "cell_type": "code",
   "execution_count": null,
   "id": "2aa712f6",
   "metadata": {},
   "outputs": [],
   "source": [
    "# Define the stock ticker you want to obtain the history data for\n",
    "ticker_name = 'TSLA'\n",
    "\n",
    "# Use the `yf.download` method to obtain the historical data\n",
    "data = yf.download(ticker_name, start='2021-01-01', end='2022-01-31')\n",
    "\n",
    "# Convert the data into a Pandas DataFrame\n",
    "yf_df = pd.DataFrame(data)\n",
    "\n",
    "# Reset the index to make the date information a column\n",
    "yf_df = yf_df.reset_index()\n",
    "\n",
    "# Set the date column as the index for the dataframe\n",
    "yf_df = yf_df.set_index('Date')\n",
    "\n",
    "# Filter the dataframe to only keep the \"Adj Close\" column\n",
    "yf_df = yf_df[['Adj Close']]\n",
    "\n",
    "# Calculate the daily percent change for each individual ticker\n",
    "percent_change = [np.nan]\n",
    "for i in range(1, len(yf_df)):\n",
    "    daily_change = ((yf_df.iloc[i]['Adj Close'] - yf_df.iloc[i - 1]['Adj Close']) / yf_df.iloc[i - 1]['Adj Close'] * 100)\n",
    "    percent_change.append(daily_change)\n",
    "\n",
    "original_row = pd.DataFrame(percent_change, columns=[\"percent_change\"])\n",
    "\n",
    "# Set the date information as the index for the original_row dataframe\n",
    "original_row = original_row.set_index(yf_df.index)\n",
    "\n",
    "# Aggregate the daily change into weekly\n",
    "weekly_change = original_row.resample('W').sum()\n",
    "\n",
    "# Create a DataFrame with all the transaction dates for a single ticker\n",
    "ticker = 'TSLA'\n",
    "ticker_dates_df = transactions_df.loc[transactions_df['ticker'] == ticker_name, ['transaction_date']]\n",
    "\n",
    "# Convert the transaction dates to datetime format\n",
    "ticker_dates_df['transaction_date'] = pd.to_datetime(ticker_dates_df['transaction_date'])\n",
    "\n",
    "# Get a list of unique dates\n",
    "ticker_dates = ticker_dates_df['transaction_date'].unique()\n",
    "\n",
    "# Plot the weekly change\n",
    "fig, ax = plt.subplots(figsize=(30,6))\n",
    "ax.plot_date(weekly_change.index, weekly_change['percent_change'], '-')\n",
    "ax.set_xlabel('Week')\n",
    "ax.set_ylabel('Change')\n",
    "ax.set_title(f\"Weekly % Change in {ticker_name} Price\")\n",
    "\n",
    "# Add a marker for each transaction date that falls within the date range of weekly_change\n",
    "for date in ticker_dates:\n",
    "    if date >= weekly_change.index.min() and date <= weekly_change.index.max():\n",
    "        ax.plot_date(date, 0, marker='D', markersize=8, color='red')\n",
    "\n",
    "plt.show()"
   ]
  },
  {
   "cell_type": "code",
   "execution_count": null,
   "id": "f5c17bb8",
   "metadata": {},
   "outputs": [],
   "source": [
    "ticker_dates_df.value_counts().head(10)"
   ]
  },
  {
   "cell_type": "code",
   "execution_count": null,
   "id": "eff58883",
   "metadata": {},
   "outputs": [],
   "source": [
    "# Define the stock ticker you want to obtain the history data for\n",
    "ticker_name = 'AAPL'\n",
    "\n",
    "# Use the `yf.download` method to obtain the historical data\n",
    "data = yf.download(ticker_name, start='2021-01-01', end='2022-01-31')\n",
    "\n",
    "# Convert the data into a Pandas DataFrame\n",
    "yf_df = pd.DataFrame(data)\n",
    "\n",
    "# Reset the index to make the date information a column\n",
    "yf_df = yf_df.reset_index()\n",
    "\n",
    "# Set the date column as the index for the dataframe\n",
    "yf_df = yf_df.set_index('Date')\n",
    "\n",
    "# Filter the dataframe to only keep the \"Adj Close\" column\n",
    "yf_df = yf_df[['Adj Close']]\n",
    "\n",
    "# Calculate the daily percent change for each individual ticker\n",
    "percent_change = [np.nan]\n",
    "for i in range(1, len(yf_df)):\n",
    "    daily_change = ((yf_df.iloc[i]['Adj Close'] - yf_df.iloc[i - 1]['Adj Close']) / yf_df.iloc[i - 1]['Adj Close'] * 100)\n",
    "    percent_change.append(daily_change)\n",
    "\n",
    "original_row = pd.DataFrame(percent_change, columns=[\"percent_change\"])\n",
    "\n",
    "# Set the date information as the index for the original_row dataframe\n",
    "original_row = original_row.set_index(yf_df.index)"
   ]
  },
  {
   "cell_type": "code",
   "execution_count": null,
   "id": "a590f2ab",
   "metadata": {},
   "outputs": [],
   "source": [
    "# Aggregate the daily change into weekly\n",
    "weekly_change = original_row.resample('W').sum()\n",
    "\n",
    "# Create a DataFrame with all the transaction dates for a single ticker\n",
    "ticker = 'AAPL'\n",
    "ticker_dates_df = transactions_df.loc[transactions_df['ticker'] == ticker_name, ['transaction_date']]\n",
    "\n",
    "# Convert the transaction dates to datetime format\n",
    "ticker_dates_df['transaction_date'] = pd.to_datetime(ticker_dates_df['transaction_date'])\n",
    "\n",
    "# Get a list of unique dates\n",
    "ticker_dates = ticker_dates_df['transaction_date'].unique()\n",
    "\n",
    "# Plot the weekly change\n",
    "fig, ax = plt.subplots(figsize=(30,6))\n",
    "ax.plot_date(weekly_change.index, weekly_change['percent_change'], '-')\n",
    "ax.set_xlabel('Week')\n",
    "ax.set_ylabel('Change')\n",
    "ax.set_title(f\"Weekly % Change in {ticker_name} Price\")\n",
    "\n",
    "# Add a marker for each transaction date that falls within the date range of weekly_change\n",
    "for date in ticker_dates:\n",
    "    if date >= weekly_change.index.min() and date <= weekly_change.index.max():\n",
    "        ax.plot_date(date, 0, marker='D', markersize=8, color='red')\n",
    "\n",
    "plt.show()"
   ]
  },
  {
   "cell_type": "code",
   "execution_count": null,
   "id": "bf64a16c",
   "metadata": {},
   "outputs": [],
   "source": [
    "ticker_dates_df.value_counts().head(10)"
   ]
  },
  {
   "cell_type": "code",
   "execution_count": null,
   "id": "44f1a7dc",
   "metadata": {},
   "outputs": [],
   "source": [
    "# Define the stock ticker you want to obtain the history data for\n",
    "ticker_name = 'NVDA'\n",
    "\n",
    "# Use the `yf.download` method to obtain the historical data\n",
    "data = yf.download(ticker_name, start='2021-01-01', end='2022-01-31')\n",
    "\n",
    "# Convert the data into a Pandas DataFrame\n",
    "yf_df = pd.DataFrame(data)\n",
    "\n",
    "# Reset the index to make the date information a column\n",
    "yf_df = yf_df.reset_index()\n",
    "\n",
    "# Set the date column as the index for the dataframe\n",
    "yf_df = yf_df.set_index('Date')\n",
    "\n",
    "# Filter the dataframe to only keep the \"Adj Close\" column\n",
    "yf_df = yf_df[['Adj Close']]\n",
    "\n",
    "# Calculate the daily percent change for each individual ticker\n",
    "percent_change = [np.nan]\n",
    "for i in range(1, len(yf_df)):\n",
    "    daily_change = ((yf_df.iloc[i]['Adj Close'] - yf_df.iloc[i - 1]['Adj Close']) / yf_df.iloc[i - 1]['Adj Close'] * 100)\n",
    "    percent_change.append(daily_change)\n",
    "\n",
    "original_row = pd.DataFrame(percent_change, columns=[\"percent_change\"])\n",
    "\n",
    "# Set the date information as the index for the original_row dataframe\n",
    "original_row = original_row.set_index(yf_df.index)"
   ]
  },
  {
   "cell_type": "code",
   "execution_count": null,
   "id": "bae68df2",
   "metadata": {},
   "outputs": [],
   "source": [
    "# Aggregate the daily change into weekly\n",
    "weekly_change = original_row.resample('W').sum()\n",
    "\n",
    "# Create a DataFrame with all the transaction dates for a single ticker\n",
    "ticker = 'NVDA'\n",
    "ticker_dates_df = transactions_df.loc[transactions_df['ticker'] == ticker_name, ['transaction_date']]\n",
    "\n",
    "# Convert the transaction dates to datetime format\n",
    "ticker_dates_df['transaction_date'] = pd.to_datetime(ticker_dates_df['transaction_date'])\n",
    "\n",
    "# Get a list of unique dates\n",
    "ticker_dates = ticker_dates_df['transaction_date'].unique()\n",
    "\n",
    "# Plot the weekly change\n",
    "fig, ax = plt.subplots(figsize=(30,6))\n",
    "ax.plot_date(weekly_change.index, weekly_change['percent_change'], '-')\n",
    "ax.set_xlabel('Week')\n",
    "ax.set_ylabel('Change')\n",
    "ax.set_title(f\"Weekly % Change in {ticker_name} Price\")\n",
    "\n",
    "# Add a marker for each transaction date that falls within the date range of weekly_change\n",
    "for date in ticker_dates:\n",
    "    if date >= weekly_change.index.min() and date <= weekly_change.index.max():\n",
    "        ax.plot_date(date, 0, marker='D', markersize=8, color='red')\n",
    "\n",
    "plt.show()"
   ]
  },
  {
   "cell_type": "code",
   "execution_count": null,
   "id": "8b0bb680",
   "metadata": {},
   "outputs": [],
   "source": [
    "ticker_dates_df.value_counts().head(15)"
   ]
  }
 ],
 "metadata": {
  "kernelspec": {
   "display_name": "Python 3 (ipykernel)",
   "language": "python",
   "name": "python3"
  },
  "language_info": {
   "codemirror_mode": {
    "name": "ipython",
    "version": 3
   },
   "file_extension": ".py",
   "mimetype": "text/x-python",
   "name": "python",
   "nbconvert_exporter": "python",
   "pygments_lexer": "ipython3",
   "version": "3.9.13"
  }
 },
 "nbformat": 4,
 "nbformat_minor": 5
}
